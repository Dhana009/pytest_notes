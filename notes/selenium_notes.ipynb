{
 "cells": [
  {
   "cell_type": "code",
   "execution_count": null,
   "metadata": {},
   "outputs": [],
   "source": [
    "#selenium notes"
   ]
  },
  {
   "cell_type": "code",
   "execution_count": null,
   "metadata": {},
   "outputs": [],
   "source": []
  },
  {
   "cell_type": "code",
   "execution_count": 1,
   "metadata": {},
   "outputs": [],
   "source": [
    "from selenium import webdriver\n",
    "from selenium.webdriver.chrome.service import Service\n",
    "from selenium.webdriver.common.by import By\n",
    "from selenium.webdriver.support.select import Select"
   ]
  },
  {
   "cell_type": "code",
   "execution_count": 2,
   "metadata": {},
   "outputs": [],
   "source": [
    "#one way\n",
    "\n",
    "from selenium import webdriver\n",
    "from selenium.webdriver.chrome.service import Service\n",
    "\n",
    "service_obj=Service(r'D:\\fullstackengineer\\chromedriver-win64\\chromedriver-win64\\chromedriver.exe')\n",
    "driver = webdriver.Chrome(service=service_obj)"
   ]
  },
  {
   "cell_type": "code",
   "execution_count": null,
   "metadata": {},
   "outputs": [],
   "source": [
    "#other way\n",
    "from selenium import webdriver\n",
    "from selenium.webdriver.chrome.service import Service   \n",
    "\n",
    "service_obj = Service()\n",
    "driver = webdriver.Chrome(service=service_obj)"
   ]
  },
  {
   "cell_type": "code",
   "execution_count": null,
   "metadata": {},
   "outputs": [],
   "source": [
    "#another way\n"
   ]
  },
  {
   "cell_type": "code",
   "execution_count": null,
   "metadata": {},
   "outputs": [],
   "source": [
    "driver.get(\"https://www.google.com\") #opens the browser and navigates to the google.com"
   ]
  },
  {
   "cell_type": "code",
   "execution_count": null,
   "metadata": {},
   "outputs": [],
   "source": [
    "driver.close() #closes the current browser tab"
   ]
  },
  {
   "cell_type": "code",
   "execution_count": null,
   "metadata": {},
   "outputs": [],
   "source": [
    "driver.quit() #quits the browser"
   ]
  },
  {
   "cell_type": "code",
   "execution_count": null,
   "metadata": {},
   "outputs": [],
   "source": [
    "driver.maximize_window() #maximizes the browser window"
   ]
  },
  {
   "cell_type": "code",
   "execution_count": null,
   "metadata": {},
   "outputs": [],
   "source": [
    "driver.current_url #returns the current url of the page"
   ]
  },
  {
   "cell_type": "code",
   "execution_count": null,
   "metadata": {},
   "outputs": [],
   "source": [
    "driver.title #returns the title of the page"
   ]
  },
  {
   "cell_type": "code",
   "execution_count": null,
   "metadata": {},
   "outputs": [],
   "source": [
    "driver.page_source #returns the html of the page"
   ]
  },
  {
   "cell_type": "code",
   "execution_count": null,
   "metadata": {},
   "outputs": [],
   "source": [
    "driver.refresh() #refreshes the page"
   ]
  },
  {
   "cell_type": "code",
   "execution_count": null,
   "metadata": {},
   "outputs": [],
   "source": [
    "driver.back() #navigates to the previous page"
   ]
  },
  {
   "cell_type": "code",
   "execution_count": null,
   "metadata": {},
   "outputs": [],
   "source": [
    "driver.get('https://rahulshettyacademy.com/angularpractice/')"
   ]
  },
  {
   "cell_type": "code",
   "execution_count": null,
   "metadata": {},
   "outputs": [],
   "source": [
    "#finding elements by id, name, class, link_text, partial_link_text, tag_name, xpath, css_selector\n",
    "\n",
    "driver.find_element(By.NAME,'name').send_keys('hello') #finds the element by name and sends the keysq"
   ]
  },
  {
   "cell_type": "code",
   "execution_count": null,
   "metadata": {},
   "outputs": [],
   "source": [
    "#xpaths\n",
    "\n",
    "# //tagname[@attribute='value']  #syntax for xpath\n",
    "\n",
    "# //input[@type='password']\n",
    "\n",
    "driver.find_element(By.XPATH,\"//input[@type='password']\").send_keys('password')"
   ]
  },
  {
   "cell_type": "code",
   "execution_count": null,
   "metadata": {},
   "outputs": [],
   "source": [
    "#xpaths \n",
    "\n",
    "#absolute xpath\n",
    "#relative xpath\n",
    "\n",
    "#relative xpath is preferred over absolute xpath\n",
    "\n",
    "#absolute xpath is not recommended because if the html changes, the xpath will also change\n",
    "#\"/html/body/div[1]/form/input[1]\"\n",
    "\n",
    "#relative xpath is more stable and reliable because it is not dependent on the html structure\n",
    "# \"//input[@id='username']\"\n",
    "\n",
    "#xpath by attributes\n",
    "# //tagname[@attribute='value']\n",
    "\n",
    "#xpath by text\n",
    "#\"//a[contains(text(),'Sign In')]\"\n",
    "\n",
    "# //tagname[text()='text'] #syntax for xpath by text\n",
    "# //tagname[contains(text(),'text')] #contains is a function that checks if the text is present in the tagname\n",
    "# //*[contains(text(),'text')] #* is a wildcard character that can be used to represent any tagname\n",
    "# //tagname[starts-with(@attribute,'value')] #starts-with is a function that checks if the attribute starts with the value\n",
    "# //tagname[@name='value' and @type='value'] #and is a function that checks if the tagname has both the attributes\n",
    "\n",
    "# \"//input[@id='username']/following-sibling::input[@id='password']\"\n",
    "# \"//input[@id='password']/preceding-sibling::input[@id='username']\"\n",
    "\n",
    "\n",
    "#css selectors\n",
    "#tagname[attribute='value']\n"
   ]
  },
  {
   "cell_type": "code",
   "execution_count": null,
   "metadata": {},
   "outputs": [],
   "source": [
    "driver.find_element(By.CLASS_NAME,\"form-check-label\").text"
   ]
  },
  {
   "cell_type": "code",
   "execution_count": null,
   "metadata": {},
   "outputs": [],
   "source": [
    "driver.find_element(By.XPATH,\"//select[@class='form-control']\").click()"
   ]
  },
  {
   "cell_type": "code",
   "execution_count": null,
   "metadata": {},
   "outputs": [],
   "source": [
    "driver.find_element(By.XPATH,\"//*[contains(text(),'Female')]\").click()"
   ]
  },
  {
   "cell_type": "code",
   "execution_count": null,
   "metadata": {},
   "outputs": [],
   "source": []
  },
  {
   "cell_type": "code",
   "execution_count": null,
   "metadata": {},
   "outputs": [],
   "source": [
    "#static dropdowns\n",
    "\n",
    "dropdown = Select(driver.find_element(By.XPATH,\"//select[@id='exampleFormControlSelect1']\")) #selects the dropdown\n"
   ]
  },
  {
   "cell_type": "code",
   "execution_count": null,
   "metadata": {},
   "outputs": [],
   "source": [
    "dropdown.select_by_index(0) #selects the dropdown by index"
   ]
  },
  {
   "cell_type": "code",
   "execution_count": null,
   "metadata": {},
   "outputs": [],
   "source": [
    "dropdown.select_by_visible_text('Female')"
   ]
  },
  {
   "cell_type": "code",
   "execution_count": null,
   "metadata": {},
   "outputs": [],
   "source": [
    "dropdown.select_by_value('teach')"
   ]
  },
  {
   "cell_type": "code",
   "execution_count": null,
   "metadata": {},
   "outputs": [],
   "source": []
  },
  {
   "cell_type": "code",
   "execution_count": null,
   "metadata": {},
   "outputs": [],
   "source": [
    "driver.get('https://rahulshettyacademy.com/dropdownsPractise/')"
   ]
  },
  {
   "cell_type": "code",
   "execution_count": null,
   "metadata": {},
   "outputs": [],
   "source": [
    "driver.find_element(By.XPATH,\"//input[@id='autosuggest']\").send_keys('ind')"
   ]
  },
  {
   "cell_type": "code",
   "execution_count": null,
   "metadata": {},
   "outputs": [],
   "source": [
    "countries = driver.find_elements(By.XPATH,\"//li[@class='ui-menu-item']/a\")"
   ]
  },
  {
   "cell_type": "code",
   "execution_count": null,
   "metadata": {},
   "outputs": [],
   "source": [
    "for i in countries:\n",
    "    if i.text == 'India':\n",
    "        i.click()\n",
    "        break"
   ]
  },
  {
   "cell_type": "code",
   "execution_count": null,
   "metadata": {},
   "outputs": [],
   "source": [
    "driver.find_element(By.XPATH,\"//input[@id='autosuggest']\").get_attribute('value') #gets the value of the attribute"
   ]
  },
  {
   "cell_type": "code",
   "execution_count": null,
   "metadata": {},
   "outputs": [],
   "source": [
    "driver.get('https://rahulshettyacademy.com/AutomationPractice/')"
   ]
  },
  {
   "cell_type": "code",
   "execution_count": null,
   "metadata": {},
   "outputs": [],
   "source": [
    "checkbox = driver.find_elements(By.XPATH,'//input[@type=\"checkbox\"]')"
   ]
  },
  {
   "cell_type": "code",
   "execution_count": null,
   "metadata": {},
   "outputs": [],
   "source": [
    "for i in checkbox:\n",
    "    if i.get_attribute('id') == 'checkBoxOption2':\n",
    "        i.click()\n",
    "        assert i.is_selected() #checks if the checkbox is selected\n",
    "        break"
   ]
  },
  {
   "cell_type": "code",
   "execution_count": null,
   "metadata": {},
   "outputs": [],
   "source": [
    "radiobutton = driver.find_elements(By.XPATH,'//input[@class=\"radioButton\"]')"
   ]
  },
  {
   "cell_type": "code",
   "execution_count": null,
   "metadata": {},
   "outputs": [],
   "source": [
    "radiobutton[2].click()"
   ]
  },
  {
   "cell_type": "code",
   "execution_count": null,
   "metadata": {},
   "outputs": [],
   "source": [
    "radiobutton[2].is_selected()"
   ]
  },
  {
   "cell_type": "code",
   "execution_count": null,
   "metadata": {},
   "outputs": [],
   "source": [
    "radiobutton[2].is_displayed()"
   ]
  },
  {
   "cell_type": "code",
   "execution_count": null,
   "metadata": {},
   "outputs": [],
   "source": [
    "driver.find_element(By.XPATH,'//input[@placeholder=\"Enter Your Name\"]').send_keys('hello')"
   ]
  },
  {
   "cell_type": "code",
   "execution_count": null,
   "metadata": {},
   "outputs": [],
   "source": [
    "driver.find_element(By.XPATH,'//input[@value=\"Alert\"]').click()"
   ]
  },
  {
   "cell_type": "code",
   "execution_count": null,
   "metadata": {},
   "outputs": [],
   "source": [
    "\n",
    "driver.switch_to.alert.accept() #accepts the alert"
   ]
  },
  {
   "cell_type": "code",
   "execution_count": null,
   "metadata": {},
   "outputs": [],
   "source": [
    "driver.switch_to.alert.dismiss() #dismisses the alert"
   ]
  },
  {
   "cell_type": "code",
   "execution_count": null,
   "metadata": {},
   "outputs": [],
   "source": [
    "driver.switch_to.alert.text"
   ]
  },
  {
   "cell_type": "code",
   "execution_count": null,
   "metadata": {},
   "outputs": [],
   "source": []
  },
  {
   "cell_type": "code",
   "execution_count": null,
   "metadata": {},
   "outputs": [],
   "source": [
    "from selenium.webdriver.support.ui import WebDriverWait\n",
    "from selenium.webdriver.support import expected_conditions\n",
    "\n",
    "WebDriverWait(driver,10).until(expected_conditions.presence_of_element_located((By.XPATH,\"//input[@id='username']\")))\n",
    "\n",
    "#presence_of_element_located is a function that checks if the element is present in the page\n",
    "#visibility_of_element_located is a function that checks if the element is visible in the page, it is used for the elements that are hidden\n",
    "#element_to_be_clickable is a function that checks if the element is clickable in the page\n",
    "#element_to_be_selected is a function that checks if the element is selected in the page\n",
    "\n",
    "#difference between presence_of_element_located and visibility_of_element_located\n",
    "#presence_of_element_located checks if the element is present in the page\n",
    "#visibility_of_element_located checks if the element is visible in the page, it is used for the elements that are hidden"
   ]
  },
  {
   "cell_type": "code",
   "execution_count": null,
   "metadata": {},
   "outputs": [],
   "source": []
  },
  {
   "cell_type": "code",
   "execution_count": null,
   "metadata": {},
   "outputs": [],
   "source": [
    "driver.get('https://rahulshettyacademy.com/seleniumPractise/')"
   ]
  },
  {
   "cell_type": "code",
   "execution_count": null,
   "metadata": {},
   "outputs": [],
   "source": [
    "prices = driver.find_elements(By.XPATH,\"//tr/td[5]/p\")"
   ]
  },
  {
   "cell_type": "code",
   "execution_count": null,
   "metadata": {},
   "outputs": [],
   "source": [
    "a = sum([int(i.text) for i in prices])"
   ]
  },
  {
   "cell_type": "code",
   "execution_count": null,
   "metadata": {},
   "outputs": [],
   "source": [
    "driver.find_element(By.XPATH,\"//span[@class='totAmt']\").text"
   ]
  },
  {
   "cell_type": "code",
   "execution_count": null,
   "metadata": {},
   "outputs": [],
   "source": [
    "a == int(driver.find_element(By.XPATH,\"//span[@class='totAmt']\").text)"
   ]
  },
  {
   "cell_type": "code",
   "execution_count": null,
   "metadata": {},
   "outputs": [],
   "source": [
    "driver.find_element(By.XPATH,\"//span[@class='discountAmt']\").text"
   ]
  },
  {
   "cell_type": "code",
   "execution_count": null,
   "metadata": {},
   "outputs": [],
   "source": [
    "driver.find_element(By.XPATH,\"//input[@type='search']\").send_keys('cu')"
   ]
  },
  {
   "cell_type": "code",
   "execution_count": null,
   "metadata": {},
   "outputs": [],
   "source": [
    "driver.find_element(By.XPATH,\"//button[@class='search-button']\").click()"
   ]
  },
  {
   "cell_type": "code",
   "execution_count": null,
   "metadata": {},
   "outputs": [],
   "source": [
    "names = driver.find_elements(By.XPATH,\"//div/div/h4\")"
   ]
  },
  {
   "cell_type": "code",
   "execution_count": null,
   "metadata": {},
   "outputs": [],
   "source": [
    "[i.text for i in names]"
   ]
  },
  {
   "cell_type": "code",
   "execution_count": 3,
   "metadata": {},
   "outputs": [],
   "source": [
    "driver.get('https://rahulshettyacademy.com/AutomationPractice/')"
   ]
  },
  {
   "cell_type": "code",
   "execution_count": 4,
   "metadata": {},
   "outputs": [],
   "source": [
    "from selenium.webdriver.common.action_chains import ActionChains\n",
    "\n",
    "action = ActionChains(driver)"
   ]
  },
  {
   "cell_type": "code",
   "execution_count": 19,
   "metadata": {},
   "outputs": [],
   "source": [
    "#action.double_click()\n",
    "#action.context_click(driver.find_element(By.XPATH,\"//button[@id='mousehover']\")) #right click\n",
    "#action.click_and_hold()\n",
    "#action.drag_and_drop()\n",
    "action.move_to_element(driver.find_element(By.ID,\"mousehover\")).perform()"
   ]
  },
  {
   "cell_type": "code",
   "execution_count": 9,
   "metadata": {},
   "outputs": [],
   "source": [
    "action.context_click(driver.find_element(By.LINK_TEXT,\"Top\")).perform()\n"
   ]
  },
  {
   "cell_type": "code",
   "execution_count": 20,
   "metadata": {},
   "outputs": [],
   "source": [
    "action.move_to_element(driver.find_element(By.LINK_TEXT,\"Top\")).click().perform()"
   ]
  },
  {
   "cell_type": "code",
   "execution_count": null,
   "metadata": {},
   "outputs": [],
   "source": []
  },
  {
   "cell_type": "code",
   "execution_count": 21,
   "metadata": {},
   "outputs": [],
   "source": [
    "driver.get('https://the-internet.herokuapp.com/windows')"
   ]
  },
  {
   "cell_type": "code",
   "execution_count": null,
   "metadata": {},
   "outputs": [],
   "source": []
  },
  {
   "cell_type": "code",
   "execution_count": 22,
   "metadata": {},
   "outputs": [],
   "source": [
    "driver.find_element(By.LINK_TEXT,\"Click Here\").click()"
   ]
  },
  {
   "cell_type": "code",
   "execution_count": 60,
   "metadata": {},
   "outputs": [],
   "source": [
    "driver.switch_to.window(windows_opened[0])"
   ]
  },
  {
   "cell_type": "code",
   "execution_count": 61,
   "metadata": {},
   "outputs": [],
   "source": [
    "driver.find_element(By.LINK_TEXT,\"Click Here\").click()\n",
    "\n",
    "windows_opened = driver.window_handles\n",
    "\n",
    "\n"
   ]
  },
  {
   "cell_type": "code",
   "execution_count": 68,
   "metadata": {},
   "outputs": [],
   "source": [
    "driver.switch_to.window(windows_opened[2])"
   ]
  },
  {
   "cell_type": "code",
   "execution_count": 69,
   "metadata": {},
   "outputs": [
    {
     "name": "stdout",
     "output_type": "stream",
     "text": [
      "New Window\n"
     ]
    }
   ],
   "source": [
    "\n",
    "print(driver.find_element(By.TAG_NAME,\"h3\").text)\n",
    "\n",
    "driver.close()\n",
    "\n",
    "driver.switch_to.window(windows_opened[0])"
   ]
  },
  {
   "cell_type": "code",
   "execution_count": null,
   "metadata": {},
   "outputs": [],
   "source": []
  },
  {
   "cell_type": "code",
   "execution_count": 75,
   "metadata": {},
   "outputs": [],
   "source": [
    "driver.get('https://the-internet.herokuapp.com/iframe')"
   ]
  },
  {
   "cell_type": "code",
   "execution_count": 76,
   "metadata": {},
   "outputs": [],
   "source": [
    "driver.switch_to.frame(\"mce_0_ifr\")"
   ]
  },
  {
   "cell_type": "code",
   "execution_count": 77,
   "metadata": {},
   "outputs": [],
   "source": [
    "driver.find_element(By.ID,\"tinymce\").send_keys('hello')"
   ]
  },
  {
   "cell_type": "code",
   "execution_count": 78,
   "metadata": {},
   "outputs": [],
   "source": [
    "driver.switch_to.default_content()"
   ]
  },
  {
   "cell_type": "code",
   "execution_count": 79,
   "metadata": {},
   "outputs": [],
   "source": [
    "driver.execute_script(\"window.scrollTo(0,document.body.scrollHeight);\")"
   ]
  },
  {
   "cell_type": "code",
   "execution_count": 80,
   "metadata": {},
   "outputs": [
    {
     "data": {
      "text/plain": [
       "True"
      ]
     },
     "execution_count": 80,
     "metadata": {},
     "output_type": "execute_result"
    }
   ],
   "source": [
    "driver.get_screenshot_as_file('screen.png')"
   ]
  },
  {
   "cell_type": "code",
   "execution_count": 82,
   "metadata": {},
   "outputs": [],
   "source": [
    "chrome_options = webdriver.ChromeOptions()\n",
    "#chrome_options.add_argument(\"headless\")\n",
    "chrome_options.add_argument(\"--ignore-certificate-errors\")\n",
    "\n",
    "service_obj=Service(r'D:\\fullstackengineer\\chromedriver-win64\\chromedriver-win64\\chromedriver.exe')\n",
    "driver = webdriver.Chrome(service=service_obj,options=chrome_options)"
   ]
  },
  {
   "cell_type": "code",
   "execution_count": 91,
   "metadata": {},
   "outputs": [],
   "source": [
    "driver.get('https://rahulshettyacademy.com/seleniumPractise/#/offers')"
   ]
  },
  {
   "cell_type": "code",
   "execution_count": 97,
   "metadata": {},
   "outputs": [],
   "source": [
    "driver.find_element(By.CLASS_NAME,\"sort-icon\").click()\n",
    "\n",
    "elements = driver.find_elements(By.XPATH,\"//tr/td[1]\")"
   ]
  },
  {
   "cell_type": "code",
   "execution_count": 98,
   "metadata": {},
   "outputs": [],
   "source": [
    "a = [i.text for i in elements]\n",
    "\n"
   ]
  },
  {
   "cell_type": "code",
   "execution_count": 100,
   "metadata": {},
   "outputs": [],
   "source": [
    "b = sorted(a)"
   ]
  },
  {
   "cell_type": "code",
   "execution_count": 102,
   "metadata": {},
   "outputs": [
    {
     "data": {
      "text/plain": [
       "True"
      ]
     },
     "execution_count": 102,
     "metadata": {},
     "output_type": "execute_result"
    }
   ],
   "source": [
    "b == a"
   ]
  },
  {
   "cell_type": "code",
   "execution_count": 103,
   "metadata": {},
   "outputs": [],
   "source": [
    "driver.get('https://rahulshettyacademy.com/angularpractice/')"
   ]
  },
  {
   "cell_type": "code",
   "execution_count": 108,
   "metadata": {},
   "outputs": [],
   "source": [
    "driver.find_element(By.XPATH,\"//a[contains(@href,'shop')]\").click()     #regular expression"
   ]
  },
  {
   "cell_type": "code",
   "execution_count": 109,
   "metadata": {},
   "outputs": [],
   "source": [
    "boxes = driver.find_elements(By.XPATH,\"//div[@class='card h-100']\")"
   ]
  },
  {
   "cell_type": "code",
   "execution_count": 110,
   "metadata": {},
   "outputs": [],
   "source": [
    "for i in boxes:\n",
    "    name = i.find_element(By.XPATH,\"div/h4/a\").text\n",
    "\n",
    "    if name == 'Blackberry':\n",
    "        i.find_element(By.XPATH,\"div/button\").click()\n",
    "        driver.find_element(By.XPATH,\"//div/ul/li\").click()\n",
    "        "
   ]
  },
  {
   "cell_type": "code",
   "execution_count": 112,
   "metadata": {},
   "outputs": [],
   "source": [
    "driver.find_element(By.XPATH,\"(//td/button)[3]\").click()"
   ]
  },
  {
   "cell_type": "code",
   "execution_count": null,
   "metadata": {},
   "outputs": [],
   "source": [
    "driver.find_element(By.XPATH,\"(//div/div/input)[1]\").send_keys('ind')"
   ]
  },
  {
   "cell_type": "code",
   "execution_count": 113,
   "metadata": {},
   "outputs": [],
   "source": [
    "driver.find_element(By.XPATH,\"//*[contains(text(),'India')]\").click()"
   ]
  },
  {
   "cell_type": "code",
   "execution_count": 117,
   "metadata": {},
   "outputs": [],
   "source": [
    "driver.find_element(By.XPATH,\"//div[@class='checkbox checkbox-primary']\").click()"
   ]
  },
  {
   "cell_type": "code",
   "execution_count": 119,
   "metadata": {},
   "outputs": [],
   "source": [
    "driver.find_element(By.XPATH,\"//input[@type='submit']\").click()"
   ]
  },
  {
   "cell_type": "code",
   "execution_count": null,
   "metadata": {},
   "outputs": [],
   "source": [
    "#give the main concepts to master in pytest ?\n",
    "\n",
    "1. Test Discovery and Naming Conventions\n",
    " pytest automatically discovers test files and test cases:\n",
    " Test file names should start with test_ or end with _test.py.\n",
    " Test functions should start with test_.\n",
    "\n",
    "\n",
    "2. Assertions\n",
    "Use Python’s built-in assert keyword for validations.\n",
    "\n",
    "\n",
    "\n",
    "3. Fixtures\n",
    "Fixtures manage setup and teardown for tests.\n",
    "Defined using the @pytest.fixture decorator.\n",
    "Can be shared across multiple tests via conftest.py.\n",
    "\n",
    "\n",
    "4. Parametrization\n",
    "Run a single test with multiple data inputs using @pytest.mark.parametrize.\n",
    "\n",
    "\n",
    "5. Markers\n",
    "Categorize or customize tests using markers.\n",
    "Built-in markers:\n",
    "@pytest.mark.skip: Skip a test.\n",
    "@pytest.mark.xfail: Mark a test as expected to fail.\n",
    "Custom markers must be registered in pytest.ini.\n",
    "\n",
    "\n",
    "6. Plugins\n",
    "Extend pytest functionality using plugins.\n",
    "Common plugins:\n",
    "pytest-html: Generate HTML reports.\n",
    "pytest-xdist: Run tests in parallel.\n",
    "pytest-mock: Mock objects during testing.\n",
    "\n",
    "\n",
    "7. Command-Line Options\n",
    "Options to control test execution:\n",
    "-v: Verbose mode.\n",
    "-k \"expression\": Run tests matching a name or expression.\n",
    "-m \"marker\": Run tests with a specific marker.\n",
    "--html=report.html: Generate an HTML report.\n",
    "\n",
    "\n",
    "9. Assertions with Custom Messages\n",
    "Enhance debugging with meaningful failure messages.\n",
    "\n",
    "\n",
    "10. Test Reports and Logging\n",
    "Use --html for reports.\n",
    "Integrate logging for better test debugging.\n",
    "\n",
    "\n",
    "11. Handling Test Failures\n",
    "Rerun failed tests using pytest-rerunfailures.\n",
    "Capture screenshots or logs on failure with hooks like pytest_runtest_makereport.\n",
    "\n",
    "\n"
   ]
  },
  {
   "cell_type": "code",
   "execution_count": null,
   "metadata": {},
   "outputs": [],
   "source": [
    "1. Register Custom Markers\n",
    "Markers are used to categorize or add metadata to tests. You can define custom markers in pytest.ini to avoid warnings when using them.\n",
    "\n",
    "\n",
    "[pytest]\n",
    "markers =\n",
    "    smoke: Smoke tests\n",
    "    regression: Regression tests\n",
    "    api: Tests related to API\n",
    "\n",
    "\n",
    "@pytest.mark.smoke\n",
    "def test_smoke_test():\n",
    "    assert True\n",
    "\n",
    "\n",
    "2. Set Command-Line Options\n",
    "pytest.ini can set default command-line options that will be applied every time pytest is run. This eliminates the need to manually pass them in the terminal.\n",
    "\n",
    "[pytest]\n",
    "addopts = -v --maxfail=3 --disable-warnings\n",
    "\n",
    "\n",
    "3. Specify Test Paths\n",
    "Define the default directories or files where pytest should look for tests.\n",
    "\n",
    "[pytest]\n",
    "testpaths = tests\n",
    "\n",
    "\n",
    "5. Control Test Discovery\n",
    "Configure how pytest discovers tests, including the pattern for test file names and test function names.\n",
    "\n",
    "[pytest]\n",
    "python_files = test_*.py\n",
    "python_functions = test_*\n",
    "\n",
    "\n",
    "7. Configure Plugins\n",
    "Some pytest plugins can be configured through pytest.ini. For example, you can configure the pytest-html plugin to generate HTML reports.\n",
    "\n",
    "[pytest]\n",
    "html = report.html\n",
    "\n",
    "\n",
    "9. Configure Test Retry Behavior (with Plugins)\n",
    "If you have a plugin like pytest-rerunfailures, you can configure the number of retries for failed tests.\n",
    "\n",
    "[pytest]\n",
    "reruns = 3\n"
   ]
  },
  {
   "cell_type": "code",
   "execution_count": null,
   "metadata": {},
   "outputs": [],
   "source": [
    "#pytest -v #runs the test cases in verbose mode, it shows the output of the test cases\n",
    "\n",
    "#pytest -v -s #runs the test cases in verbose mode and shows console logs\n",
    "\n",
    "#pytest filename.py -v -s #runs the test cases in the filename.py, in verbose mode and shows the output of the test cases\n",
    "\n",
    "#pytest -k test_name #runs the test cases with the test_name, it is used to run the specific test cases\n",
    "\n",
    "# how to run selected test cases in pytest\n",
    "#pytest -k test_name #-k is a keyword argument that is used to run the specific test cases\n",
    "#example: \n",
    "#pytest -k login #-runs the test cases with the login keyword\n",
    "\n",
    "\n",
    "# how to run all the test cases in pytest\n",
    "#pytest\n",
    "\n",
    "# how to run the test cases in verbose mode\n",
    "#pytest -v\n",
    "\n",
    "# how to run the test cases in verbose mode and show the output\n",
    "#pytest -v -s\n",
    "\n",
    "# how to run the test cases in a specific file\n",
    "#pytest filename.py\n",
    "\n",
    "# how to run the test cases in a specific file in verbose mode\n",
    "#pytest filename.py -v\n",
    "\n",
    "#how to run specific test case in a specific file which is in a class\n",
    "#pytest filename.py::classname::test_name\n",
    "\n",
    "#how to run all the test cases in a specific file which is in a class\n",
    "#pytest filename.py::classname\n",
    "\n",
    "#marker is a keyword argument that is used to run the specific test cases"
   ]
  },
  {
   "cell_type": "code",
   "execution_count": null,
   "metadata": {},
   "outputs": [],
   "source": [
    "import pytest\n",
    "\n",
    "@pytest.mark.smoke #-m is a marker that is used to run the test cases with the specific tag\n",
    "@pytest.mark.skip\n",
    "def test_first():\n",
    "    assert 1==1\n",
    "\n",
    "@pytest.mark.sanity #sanity is a tag that is used to run the test cases with the sanity tag means the test cases that are important\n",
    "def test_second():\n",
    "    assert 2==2\n",
    "\n",
    "@pytest.mark.xfail #expected to fail, if the test case fails, it will not be considered as a failure\n",
    "def test_third():\n",
    "    assert 3==3\n",
    "\n",
    "\n",
    "\n",
    "#pytest -m smoke #runs the test cases with the smoke tag"
   ]
  },
  {
   "cell_type": "code",
   "execution_count": 121,
   "metadata": {},
   "outputs": [],
   "source": [
    "#fixtures - setup and teardown\n",
    "\n",
    "import pytest\n",
    "\n",
    "@pytest.fixture() #setup and teardown, setup is called before the test case and teardown is called after the test case\n",
    "def setup():\n",
    "    print('setup')\n",
    "    yield\n",
    "    print('teardown')\n",
    "\n",
    "\n",
    "def test_first(setup):\n",
    "    print('test_first')\n",
    "    assert 1==1\n",
    "\n",
    "def test_second(setup):\n",
    "    print('test_second')\n",
    "    assert 2==2\n",
    "\n",
    "\n",
    "#pytest -v -s #runs the test cases in verbose mode and shows the output of the test cases"
   ]
  },
  {
   "cell_type": "code",
   "execution_count": null,
   "metadata": {},
   "outputs": [],
   "source": [
    "#conftest.py - it is a file that contains the fixtures, it is used to share the fixtures across the test cases\n",
    "\n",
    "import pytest\n",
    "\n",
    "@pytest.fixture()\n",
    "def setup():\n",
    "    print('setup')\n",
    "    yield\n",
    "    print('teardown')\n",
    "\n"
   ]
  },
  {
   "cell_type": "code",
   "execution_count": null,
   "metadata": {},
   "outputs": [],
   "source": [
    "#how to pass the fixtures to every test case without explicity mentioning it\n",
    "\n",
    "#conftest.py\n",
    "\n",
    "import pytest\n",
    "\n",
    "@pytest.fixture()\n",
    "def setup():\n",
    "    print('setup')\n",
    "    yield\n",
    "    print('teardown')\n",
    "\n",
    "\n",
    "\n",
    "#test_file.py\n",
    "\n",
    "@pytest.mark.usefixtures('setup')\n",
    "class testexample:\n",
    "    def test_first(self):\n",
    "        print('test_first')\n",
    "        assert 1==1\n",
    "\n",
    "    def test_second(self):\n",
    "        print('test_second')\n",
    "        assert 2==2\n",
    "\n",
    "\n",
    "\n",
    "#now if i want to exceute the setup only once in the class at the beginning of the test cases\n",
    "\n",
    "#conftest.py\n",
    "\n",
    "import pytest\n",
    "\n",
    "@pytest.fixture(scope='class')\n",
    "def setup():\n",
    "    print('setup')\n",
    "    yield\n",
    "    print('teardown')\n",
    "\n",
    "\n",
    "\n",
    "\n",
    "#test_file.py\n",
    "\n",
    "@pytest.mark.usefixtures('setup')\n",
    "class testexample:\n",
    "    def test_first(self):\n",
    "        print('test_first')\n",
    "        assert 1==1\n",
    "\n",
    "    def test_second(self):\n",
    "        print('test_second')\n",
    "        assert 2==2\n",
    "\n",
    "\n",
    "#what is scope is here ?\n",
    "        \n",
    "#scope is used to define the scope of the fixture, it can be function, class, module, session\n",
    "        \n",
    "#function - the fixture is called for every test case\n",
    "\n",
    "#class - the fixture is called only once for the class\n",
    "\n",
    "#module - the fixture is called only once for the module\n",
    "\n",
    "#session - the fixture is called only once for the session\n",
    "\n",
    "\n",
    "#how to run the test cases in parallel\n",
    "        \n",
    "#pytest -n 2 #runs the test cases in parallel with 2 threads\n",
    "        \n"
   ]
  },
  {
   "cell_type": "code",
   "execution_count": null,
   "metadata": {},
   "outputs": [],
   "source": [
    "#pytest html report\n",
    "\n",
    "#pip install pytest-html\n",
    "\n",
    "#pytest --html=report.html #generates the html report\n",
    "\n",
    "#pytest --html=report.html --self-contained-html #generates the html report with all the css and js files embedded in the html file\n",
    "\n",
    "#pytest --html=report.html --self-contained-html -v -s #generates the html report with all the css and js files embedded in the html file, in verbose mode and shows the output of the test cases"
   ]
  },
  {
   "cell_type": "code",
   "execution_count": null,
   "metadata": {},
   "outputs": [],
   "source": [
    "#logging\n",
    "\n",
    "import logging\n",
    "import inspect\n",
    "\n",
    "loggername = inspect.stack()[1][3] #gets the name of the function\n",
    "logger = logging.getLogger(__name__) # __name__ is the name of the module #logger is an object of the logging class\n",
    "\n",
    "\n",
    "filehandler = logging.FileHandler('logfile.log') #creates a file handler that writes the logging messages to the file\n",
    "\n",
    "formatter = logging.Formatter('%(asctime)s : %(levelname)s : %(name)s : %(message)s') #creates a formatter that formats the logging messages\n",
    "\n",
    "filehandler.setFormatter(formatter) #sets the formatter to the file handler\n",
    "\n",
    "logger.addHandler(filehandler) #adds a handler to the logger, it is used to handle the logging messages\n",
    "\n",
    "logger.setLevel(logging.DEBUG) #sets the logging level of the logger\n",
    "\n",
    "logger.debug('this is a debug message') #debug is the lowest level of logging, it is used for debugging purposes\n",
    "logger.info('this is an info message') #info is the second lowest level of logging, it is used for informational purposes\n",
    "logger.warning('this is a warning message') #warning is the third lowest level of logging, it is used for warning purposes\n",
    "logger.error('this is an error message') #error is the second highest level of logging, it is used for error purposes\n",
    "logger.critical('this is a critical message') #critical is the highest level of logging, it is used for critical purposes\n",
    "\n",
    "#logging levels\n",
    "\n",
    "#debug - lowest level of logging, it is used for debugging purposes\n",
    "#info - second lowest level of logging, it is used for informational purposes\n",
    "#warning - third lowest level of logging, it is used for warning purposes\n",
    "#error - second highest level of logging, it is used for error purposes\n",
    "#critical - highest level of logging, it is used for critical purposes\n"
   ]
  },
  {
   "cell_type": "code",
   "execution_count": null,
   "metadata": {},
   "outputs": [],
   "source": [
    "import logging\n",
    "import inspect\n",
    "\n",
    "class BaseClass:\n",
    "\n",
    "    def getlogger(self):\n",
    "        # Get the name of the calling function\n",
    "        loggername = inspect.stack()[1][3]\n",
    "        \n",
    "        # Create a logger object with the name of the calling function\n",
    "        logger = logging.getLogger(loggername)\n",
    "        \n",
    "        # Create a file handler to write log messages to a file named 'logfile.log'\n",
    "        filehandler = logging.FileHandler('logfile.log')\n",
    "        \n",
    "        # Create a formatter to specify the format of log messages\n",
    "        formatter = logging.Formatter('%(asctime)s : %(levelname)s : %(name)s : %(message)s')\n",
    "        \n",
    "        # Set the formatter for the file handler\n",
    "        filehandler.setFormatter(formatter)\n",
    "        \n",
    "        # Add the file handler to the logger\n",
    "        logger.addHandler(filehandler) # Add handler to the logger object, so that it can write to the file, as well as to the console, if required, based on the logging level\n",
    "        \n",
    "        # Set the logging level to INFO\n",
    "        logger.setLevel(logging.INFO)\n",
    "        \n",
    "        # Return the logger object\n",
    "        return logger\n",
    "    \n",
    "\n",
    "\n",
    "import pytest\n",
    "from test_logging import BaseClass \n",
    "\n",
    "class TestEx(BaseClass):\n",
    "\n",
    "    def test_ets(self):\n",
    "        log = self.getlogger()\n",
    "        log.error(\"This is info message\")"
   ]
  },
  {
   "cell_type": "code",
   "execution_count": null,
   "metadata": {},
   "outputs": [],
   "source": []
  },
  {
   "cell_type": "code",
   "execution_count": null,
   "metadata": {},
   "outputs": [],
   "source": []
  },
  {
   "cell_type": "code",
   "execution_count": null,
   "metadata": {},
   "outputs": [],
   "source": []
  }
 ],
 "metadata": {
  "kernelspec": {
   "display_name": "Python 3",
   "language": "python",
   "name": "python3"
  },
  "language_info": {
   "codemirror_mode": {
    "name": "ipython",
    "version": 3
   },
   "file_extension": ".py",
   "mimetype": "text/x-python",
   "name": "python",
   "nbconvert_exporter": "python",
   "pygments_lexer": "ipython3",
   "version": "3.11.8"
  }
 },
 "nbformat": 4,
 "nbformat_minor": 2
}
